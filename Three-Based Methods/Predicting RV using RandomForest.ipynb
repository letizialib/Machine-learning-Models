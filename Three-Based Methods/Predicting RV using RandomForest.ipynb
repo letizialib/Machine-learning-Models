{
 "cells": [
  {
   "cell_type": "code",
   "execution_count": 1,
   "metadata": {},
   "outputs": [],
   "source": [
    "import pandas as pd\n",
    "import numpy as np\n",
    "import matplotlib.pyplot as plt\n",
    "import seaborn as sns\n",
    "import sklearn"
   ]
  },
  {
   "cell_type": "code",
   "execution_count": 2,
   "metadata": {},
   "outputs": [],
   "source": [
    "data = pd.read_csv('spy dal 2022.csv', index_col=0, parse_dates=True, sep=',')\n",
    "data[\"returns\"] = data[\"close\"].pct_change(1)"
   ]
  },
  {
   "cell_type": "markdown",
   "metadata": {},
   "source": [
    "### Features engineering"
   ]
  },
  {
   "cell_type": "markdown",
   "metadata": {},
   "source": [
    "##### Realized Volatility"
   ]
  },
  {
   "cell_type": "code",
   "execution_count": 3,
   "metadata": {},
   "outputs": [],
   "source": [
    "data[\"RV_1_sqrt\"] = np.sqrt(data[\"returns\"]**2)\n",
    "data[\"RV_5_sqrt\"] = np.sqrt(data[\"returns\"].rolling(5).sum()**2)\n",
    "data[\"RV_30_sqrt\"] = np.sqrt(data[\"returns\"].rolling(22).sum()**2)\n",
    "data[\"RV_60_sqrt\"] = np.sqrt(data[\"returns\"].rolling(66).sum()**2)\n",
    "data[\"RV_120_sqrt\"] = np.sqrt(data[\"returns\"].rolling(132).sum()**2)"
   ]
  },
  {
   "cell_type": "markdown",
   "metadata": {},
   "source": [
    "##### Modello HAR"
   ]
  },
  {
   "cell_type": "code",
   "execution_count": 4,
   "metadata": {},
   "outputs": [],
   "source": [
    "data[\"modello HAR\"] = 0.0 + 0.2 * data[\"RV_1_sqrt\"] + 0.2 * data[\"RV_5_sqrt\"] + 0.2 * data[\"RV_30_sqrt\"] + 0.2 * data[\"RV_60_sqrt\"] + 0.2 * data[\"RV_120_sqrt\"]"
   ]
  },
  {
   "cell_type": "markdown",
   "metadata": {},
   "source": [
    "##### Target"
   ]
  },
  {
   "cell_type": "code",
   "execution_count": 5,
   "metadata": {},
   "outputs": [],
   "source": [
    "data[\"HAR_tomorrow\"] = data[\"modello HAR\"].shift(-1)\n",
    "data[\"target\"] = (data[\"HAR_tomorrow\"] > data[\"modello HAR\"] ).astype(int)"
   ]
  },
  {
   "cell_type": "markdown",
   "metadata": {},
   "source": [
    "##### X"
   ]
  },
  {
   "cell_type": "code",
   "execution_count": 13,
   "metadata": {},
   "outputs": [],
   "source": [
    "# Average True Range\n",
    "data[\"TR\"] = np.maximum(data[\"high\"] - data[\"low\"], data[\"high\"] - data[\"close\"].shift(1), data[\"low\"] - data[\"close\"].shift(1)) \n",
    "data[\"ATR\"] = data[\"TR\"]\n",
    "\n",
    "# Close Relative To Daily Range\n",
    "data[\"CRTDR\"] = (data[\"close\"] - data[\"low\"]) / (data[\"high\"] - data[\"low\"])\n",
    "\n",
    "# Exponential Moving Average of realised volatility\n",
    "data[\"EMA_RV_1_sqrt\"] = data[\"RV_1_sqrt\"].ewm(span=22, adjust=False).mean()\n",
    "data[\"EMA_RV_5_sqrt\"] = data[\"RV_5_sqrt\"].ewm(span=22, adjust=False).mean()\n",
    "data[\"EMA_RV_30_sqrt\"] = data[\"RV_30_sqrt\"].ewm(span=22, adjust=False).mean()\n",
    "data[\"EMA_RV_60_sqrt\"] = data[\"RV_60_sqrt\"].ewm(span=22, adjust=False).mean()\n",
    "data[\"EMA_RV_120_sqrt\"] = data[\"RV_120_sqrt\"].ewm(span=22, adjust=False).mean()\n",
    "\n",
    "# Moving Average convergence divergence\n",
    "data[\"MACDRV\"] = data[\"EMA_RV_1_sqrt\"] - data[\"EMA_RV_5_sqrt\"]\n",
    "\n",
    "# Relative Strength Index for realised volatility\n",
    "data[\"RSI_RV_1_sqrt\"] = 100 - 100 / (1 + data[\"RV_1_sqrt\"].rolling(14).mean())\n",
    "\n",
    "data.dropna(inplace=True)\n",
    "\n"
   ]
  },
  {
   "cell_type": "markdown",
   "metadata": {},
   "source": [
    "### Split the data"
   ]
  },
  {
   "cell_type": "code",
   "execution_count": 14,
   "metadata": {},
   "outputs": [],
   "source": [
    "X = data[[\"RV_1_sqrt\", \"RV_5_sqrt\", \"RV_30_sqrt\", \"RV_60_sqrt\", \"RV_120_sqrt\", \"TR\", \"ATR\", \"CRTDR\", \"EMA_RV_1_sqrt\", \"EMA_RV_5_sqrt\", \"EMA_RV_30_sqrt\", \"EMA_RV_60_sqrt\", \"EMA_RV_120_sqrt\", \"MACDRV\", \"RSI_RV_1_sqrt\"]]\n",
    "\n",
    "\n",
    "\n",
    "y = data[\"target\"]\n",
    "\n",
    "from sklearn.model_selection import train_test_split\n",
    "X_train, X_test, y_train, y_test = train_test_split(X, y, test_size=0.3, random_state=0)"
   ]
  },
  {
   "cell_type": "markdown",
   "metadata": {},
   "source": [
    "### Random Forest"
   ]
  },
  {
   "cell_type": "code",
   "execution_count": 31,
   "metadata": {},
   "outputs": [],
   "source": [
    "from sklearn.ensemble import RandomForestClassifier\n",
    "\n",
    "clf = RandomForestClassifier(n_estimators=100, max_depth=5, min_samples_split=2, min_samples_leaf=1, min_weight_fraction_leaf=0, max_leaf_nodes=50, min_impurity_decrease=0, random_state=0)\n",
    "clf.fit(X_train, y_train)\n",
    "y_pred = clf.predict(X_test)"
   ]
  },
  {
   "cell_type": "code",
   "execution_count": 38,
   "metadata": {},
   "outputs": [
    {
     "data": {
      "text/plain": [
       "0.5959208044401623"
      ]
     },
     "execution_count": 38,
     "metadata": {},
     "output_type": "execute_result"
    }
   ],
   "source": [
    "from sklearn.metrics import accuracy_score\n",
    "accuracy_score(y_test, y_pred)"
   ]
  },
  {
   "cell_type": "markdown",
   "metadata": {},
   "source": [
    "### Gradient Boosting Classifier"
   ]
  },
  {
   "cell_type": "code",
   "execution_count": 40,
   "metadata": {},
   "outputs": [],
   "source": [
    "from sklearn.ensemble import GradientBoostingClassifier\n",
    "\n",
    "clf = GradientBoostingClassifier(n_estimators=5, learning_rate=0.5, random_state=42, max_depth=5, min_samples_split=2, min_samples_leaf=1, min_weight_fraction_leaf=0, max_leaf_nodes=50, min_impurity_decrease=0)\n",
    "clf.fit(X_train, y_train)\n",
    "y_pred = clf.predict(X_test)\n"
   ]
  },
  {
   "cell_type": "code",
   "execution_count": 41,
   "metadata": {},
   "outputs": [
    {
     "data": {
      "text/plain": [
       "0.5959208044401623"
      ]
     },
     "execution_count": 41,
     "metadata": {},
     "output_type": "execute_result"
    }
   ],
   "source": [
    "from sklearn.metrics import accuracy_score\n",
    "accuracy_score(y_test, y_pred)"
   ]
  },
  {
   "cell_type": "markdown",
   "metadata": {},
   "source": [
    "### Ada Boost Classifier "
   ]
  },
  {
   "cell_type": "code",
   "execution_count": 20,
   "metadata": {},
   "outputs": [
    {
     "name": "stderr",
     "output_type": "stream",
     "text": [
      "/Users/letizialibrobuono/Library/Python/3.9/lib/python/site-packages/sklearn/ensemble/_weight_boosting.py:527: FutureWarning: The SAMME.R algorithm (the default) is deprecated and will be removed in 1.6. Use the SAMME algorithm to circumvent this warning.\n",
      "  warnings.warn(\n"
     ]
    }
   ],
   "source": [
    "from sklearn.ensemble import AdaBoostClassifier \n",
    "\n",
    "clf = AdaBoostClassifier(n_estimators=100, learning_rate=0.2, random_state=42)\n",
    "clf.fit(X_train, y_train)\n",
    "y_pred = clf.predict(X_test)"
   ]
  },
  {
   "cell_type": "code",
   "execution_count": 21,
   "metadata": {},
   "outputs": [
    {
     "data": {
      "text/plain": [
       "0.5933017600521094"
      ]
     },
     "execution_count": 21,
     "metadata": {},
     "output_type": "execute_result"
    }
   ],
   "source": [
    "from sklearn.metrics import accuracy_score\n",
    "accuracy_score(y_test, y_pred)"
   ]
  },
  {
   "cell_type": "markdown",
   "metadata": {},
   "source": [
    "### Grid Search"
   ]
  },
  {
   "cell_type": "code",
   "execution_count": 42,
   "metadata": {},
   "outputs": [],
   "source": [
    "from sklearn.model_selection import GridSearchCV\n",
    "\n",
    "clf\n",
    "\n",
    "param_grid = {'max_depth': [3, 5, 7, 9], \n",
    "              'learning_rate': [0.1, 0.2, 0.3, 0.4, 0.5],\n",
    "              'min_samples_split': [2, 4, 6, 8],\n",
    "              'min_samples_leaf': [1, 2, 3, 4, 5],\n",
    "              'min_weight_fraction_leaf': [0, 0.1, 0.2, 0.3],\n",
    "              'max_leaf_nodes': [10, 20, 30, 40, 50],\n",
    "              'min_impurity_decrease': [0, 0.1, 0.2, 0.3]}\n",
    "\n",
    "grid_search = GridSearchCV(clf, param_grid, cv=5)\n",
    "\n",
    "grid_search.fit(X_train, y_train)\n",
    "\n",
    "print(grid_search.best_params_)\n",
    "print(grid_search.best_score_)\n",
    "print(grid_search.best_estimator_)\n",
    "\n",
    "\n",
    "\n"
   ]
  }
 ],
 "metadata": {
  "kernelspec": {
   "display_name": "Python 3",
   "language": "python",
   "name": "python3"
  },
  "language_info": {
   "codemirror_mode": {
    "name": "ipython",
    "version": 3
   },
   "file_extension": ".py",
   "mimetype": "text/x-python",
   "name": "python",
   "nbconvert_exporter": "python",
   "pygments_lexer": "ipython3",
   "version": "3.9.6"
  }
 },
 "nbformat": 4,
 "nbformat_minor": 2
}
